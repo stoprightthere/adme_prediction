{
 "cells": [
  {
   "cell_type": "code",
   "execution_count": 1,
   "id": "6af3b7c5",
   "metadata": {},
   "outputs": [],
   "source": [
    "import os\n",
    "\n",
    "import pandas as pd\n",
    "from sklearn.metrics import f1_score, roc_auc_score\n",
    "\n",
    "from src.datasets import prepare_dataset\n",
    "from src.train import train\n",
    "from src.models import load_pretrained"
   ]
  },
  {
   "cell_type": "code",
   "execution_count": 2,
   "id": "872883c3",
   "metadata": {},
   "outputs": [],
   "source": [
    "dataset_names = ['HIA_Hou', 'BBB_Martins', 'CYP3A4_Substrate_CarbonMangels']"
   ]
  },
  {
   "cell_type": "code",
   "execution_count": 3,
   "id": "1d713e0e",
   "metadata": {},
   "outputs": [],
   "source": [
    "model_names = ['tree', 'DGL_GCN', 'Transformer']"
   ]
  },
  {
   "cell_type": "code",
   "execution_count": 4,
   "id": "dae62080",
   "metadata": {
    "scrolled": true
   },
   "outputs": [
    {
     "name": "stderr",
     "output_type": "stream",
     "text": [
      "Found local copy...\n",
      "Loading...\n",
      "Done!\n"
     ]
    },
    {
     "name": "stdout",
     "output_type": "stream",
     "text": [
      "encoding drug...\n",
      "unique drugs: 578\n"
     ]
    },
    {
     "name": "stderr",
     "output_type": "stream",
     "text": [
      "Found local copy...\n",
      "Loading...\n",
      "Done!\n",
      "Found local copy...\n",
      "Loading...\n",
      "Done!\n"
     ]
    },
    {
     "name": "stdout",
     "output_type": "stream",
     "text": [
      "Drug Property Prediction Mode...\n",
      "in total: 578 drugs\n",
      "encoding drug...\n",
      "unique drugs: 578\n",
      "Done.\n",
      "Drug Property Prediction Mode...\n",
      "in total: 578 drugs\n",
      "encoding drug...\n",
      "unique drugs: 578\n"
     ]
    },
    {
     "name": "stderr",
     "output_type": "stream",
     "text": [
      "Found local copy...\n",
      "Loading...\n",
      "Done!\n"
     ]
    },
    {
     "name": "stdout",
     "output_type": "stream",
     "text": [
      "Done.\n",
      "encoding drug...\n",
      "unique drugs: 1975\n"
     ]
    },
    {
     "name": "stderr",
     "output_type": "stream",
     "text": [
      "[17:48:34] WARNING: not removing hydrogen atom without neighbors\n",
      "[17:48:35] WARNING: not removing hydrogen atom without neighbors\n",
      "[17:48:35] WARNING: not removing hydrogen atom without neighbors\n",
      "[17:48:35] WARNING: not removing hydrogen atom without neighbors\n",
      "[17:48:36] WARNING: not removing hydrogen atom without neighbors\n",
      "[17:48:36] WARNING: not removing hydrogen atom without neighbors\n",
      "[17:48:36] WARNING: not removing hydrogen atom without neighbors\n",
      "[17:48:36] WARNING: not removing hydrogen atom without neighbors\n",
      "[17:48:37] WARNING: not removing hydrogen atom without neighbors\n",
      "[17:48:37] WARNING: not removing hydrogen atom without neighbors\n",
      "[17:48:37] WARNING: not removing hydrogen atom without neighbors\n",
      "[17:48:37] WARNING: not removing hydrogen atom without neighbors\n",
      "[17:48:37] WARNING: not removing hydrogen atom without neighbors\n",
      "[17:48:38] WARNING: not removing hydrogen atom without neighbors\n",
      "[17:48:39] WARNING: not removing hydrogen atom without neighbors\n",
      "[17:48:39] WARNING: not removing hydrogen atom without neighbors\n",
      "[17:48:39] WARNING: not removing hydrogen atom without neighbors\n",
      "[17:48:39] WARNING: not removing hydrogen atom without neighbors\n",
      "[17:48:40] WARNING: not removing hydrogen atom without neighbors\n",
      "[17:48:40] WARNING: not removing hydrogen atom without neighbors\n",
      "[17:48:41] WARNING: not removing hydrogen atom without neighbors\n",
      "[17:48:41] WARNING: not removing hydrogen atom without neighbors\n",
      "[17:48:41] WARNING: not removing hydrogen atom without neighbors\n",
      "[17:48:41] WARNING: not removing hydrogen atom without neighbors\n",
      "[17:48:41] WARNING: not removing hydrogen atom without neighbors\n",
      "[17:48:41] WARNING: not removing hydrogen atom without neighbors\n",
      "[17:48:42] WARNING: not removing hydrogen atom without neighbors\n",
      "[17:48:42] WARNING: not removing hydrogen atom without neighbors\n",
      "[17:48:42] WARNING: not removing hydrogen atom without neighbors\n",
      "[17:48:42] WARNING: not removing hydrogen atom without neighbors\n",
      "[17:48:43] WARNING: not removing hydrogen atom without neighbors\n",
      "[17:48:43] WARNING: not removing hydrogen atom without neighbors\n",
      "[17:48:43] WARNING: not removing hydrogen atom without neighbors\n",
      "[17:48:44] WARNING: not removing hydrogen atom without neighbors\n",
      "[17:48:44] WARNING: not removing hydrogen atom without neighbors\n",
      "[17:48:44] WARNING: not removing hydrogen atom without neighbors\n",
      "[17:48:44] WARNING: not removing hydrogen atom without neighbors\n",
      "[17:48:44] WARNING: not removing hydrogen atom without neighbors\n",
      "[17:48:45] WARNING: not removing hydrogen atom without neighbors\n",
      "[17:48:45] WARNING: not removing hydrogen atom without neighbors\n",
      "Found local copy...\n",
      "Loading...\n",
      "Done!\n",
      "Found local copy...\n",
      "Loading...\n",
      "Done!\n"
     ]
    },
    {
     "name": "stdout",
     "output_type": "stream",
     "text": [
      "Drug Property Prediction Mode...\n",
      "in total: 2030 drugs\n",
      "encoding drug...\n",
      "unique drugs: 1975\n",
      "Done.\n",
      "Drug Property Prediction Mode...\n",
      "in total: 2030 drugs\n",
      "encoding drug...\n",
      "unique drugs: 1975\n"
     ]
    },
    {
     "name": "stderr",
     "output_type": "stream",
     "text": [
      "Found local copy...\n",
      "Loading...\n",
      "Done!\n"
     ]
    },
    {
     "name": "stdout",
     "output_type": "stream",
     "text": [
      "Done.\n",
      "encoding drug...\n",
      "unique drugs: 667\n"
     ]
    },
    {
     "name": "stderr",
     "output_type": "stream",
     "text": [
      "Found local copy...\n",
      "Loading...\n",
      "Done!\n",
      "Found local copy...\n",
      "Loading...\n",
      "Done!\n"
     ]
    },
    {
     "name": "stdout",
     "output_type": "stream",
     "text": [
      "Drug Property Prediction Mode...\n",
      "in total: 670 drugs\n",
      "encoding drug...\n",
      "unique drugs: 667\n",
      "Done.\n",
      "Drug Property Prediction Mode...\n",
      "in total: 670 drugs\n",
      "encoding drug...\n",
      "unique drugs: 667\n",
      "Done.\n"
     ]
    }
   ],
   "source": [
    "for dataset_name in dataset_names:\n",
    "    for model_name in model_names:\n",
    "        train_df, val_df, test_df = prepare_dataset(dataset_name, model_name)\n",
    "        \n",
    "        dataset_folder = os.path.join('datasets', dataset_name, model_name)\n",
    "        if not os.path.exists(dataset_folder):\n",
    "            os.makedirs(dataset_folder)\n",
    "        train_df.to_pickle(os.path.join(dataset_folder, 'train.pickle'))\n",
    "        val_df.to_pickle(os.path.join(dataset_folder, 'val.pickle'))\n",
    "        test_df.to_pickle(os.path.join(dataset_folder, 'test.pickle'))"
   ]
  },
  {
   "cell_type": "code",
   "execution_count": 5,
   "id": "637685d2",
   "metadata": {},
   "outputs": [],
   "source": [
    "model_kwargs = {}\n",
    "model_kwargs['DGL_GCN'] = dict(LR=1e-3, train_epoch=100, batch_size=64)\n",
    "model_kwargs['Transformer'] = model_kwargs['DGL_GCN']\n",
    "model_kwargs['tree'] = {'max_depth': 5, 'random_state': 1234,}"
   ]
  },
  {
   "cell_type": "code",
   "execution_count": 6,
   "id": "9ba3cb9c",
   "metadata": {},
   "outputs": [],
   "source": [
    "auc_scores = {}"
   ]
  },
  {
   "cell_type": "code",
   "execution_count": 7,
   "id": "37741ac5",
   "metadata": {},
   "outputs": [],
   "source": [
    "from DeepPurpose import CompoundPred"
   ]
  },
  {
   "cell_type": "code",
   "execution_count": 8,
   "id": "4564a4cc",
   "metadata": {},
   "outputs": [
    {
     "name": "stdout",
     "output_type": "stream",
     "text": [
      "predicting...\n",
      "predicting...\n",
      "predicting...\n",
      "predicting...\n",
      "predicting...\n",
      "predicting...\n"
     ]
    }
   ],
   "source": [
    "for dataset_name in dataset_names:\n",
    "    auc_scores[dataset_name] = {}\n",
    "    for model_name in model_names:\n",
    "        model_dir = os.path.join('models', dataset_name, model_name)\n",
    "        if not os.path.exists(model_dir):\n",
    "            os.makedirs(model_dir)\n",
    "            \n",
    "        dataset_dir = os.path.join('datasets', dataset_name, model_name)\n",
    "        \n",
    "        try:\n",
    "            model = load_pretrained(model_name, model_dir)\n",
    "        except FileNotFoundError:\n",
    "            model = train(model_name, \n",
    "                          train_pickle=os.path.join(dataset_dir, 'train.pickle'),\n",
    "                          val_pickle=os.path.join(dataset_dir, 'val.pickle'),\n",
    "                          model_dir=model_dir,\n",
    "                          **model_kwargs[model_name])\n",
    "\n",
    "        test_dataset = pd.read_pickle(os.path.join(dataset_dir, 'test.pickle'))\n",
    "        y_pred =  model.predict(test_dataset)\n",
    "        \n",
    "        auc_scores[dataset_name][model_name] = roc_auc_score(test_dataset['Label'], y_pred)"
   ]
  },
  {
   "cell_type": "code",
   "execution_count": 35,
   "id": "b92db96b",
   "metadata": {},
   "outputs": [],
   "source": [
    "auc_scores_df = pd.DataFrame(auc_scores)"
   ]
  },
  {
   "cell_type": "code",
   "execution_count": 36,
   "id": "7f56042e",
   "metadata": {},
   "outputs": [
    {
     "data": {
      "text/html": [
       "<div>\n",
       "<style scoped>\n",
       "    .dataframe tbody tr th:only-of-type {\n",
       "        vertical-align: middle;\n",
       "    }\n",
       "\n",
       "    .dataframe tbody tr th {\n",
       "        vertical-align: top;\n",
       "    }\n",
       "\n",
       "    .dataframe thead th {\n",
       "        text-align: right;\n",
       "    }\n",
       "</style>\n",
       "<table border=\"1\" class=\"dataframe\">\n",
       "  <thead>\n",
       "    <tr style=\"text-align: right;\">\n",
       "      <th></th>\n",
       "      <th>HIA_Hou</th>\n",
       "      <th>BBB_Martins</th>\n",
       "      <th>CYP3A4_Substrate_CarbonMangels</th>\n",
       "    </tr>\n",
       "  </thead>\n",
       "  <tbody>\n",
       "    <tr>\n",
       "      <th>tree</th>\n",
       "      <td>0.604950</td>\n",
       "      <td>0.838461</td>\n",
       "      <td>0.575869</td>\n",
       "    </tr>\n",
       "    <tr>\n",
       "      <th>DGL_GCN</th>\n",
       "      <td>0.937624</td>\n",
       "      <td>0.885884</td>\n",
       "      <td>0.650624</td>\n",
       "    </tr>\n",
       "    <tr>\n",
       "      <th>Transformer</th>\n",
       "      <td>0.797690</td>\n",
       "      <td>0.801809</td>\n",
       "      <td>0.534425</td>\n",
       "    </tr>\n",
       "  </tbody>\n",
       "</table>\n",
       "</div>"
      ],
      "text/plain": [
       "              HIA_Hou  BBB_Martins  CYP3A4_Substrate_CarbonMangels\n",
       "tree         0.604950     0.838461                        0.575869\n",
       "DGL_GCN      0.937624     0.885884                        0.650624\n",
       "Transformer  0.797690     0.801809                        0.534425"
      ]
     },
     "execution_count": 36,
     "metadata": {},
     "output_type": "execute_result"
    }
   ],
   "source": [
    "auc_scores_df"
   ]
  },
  {
   "cell_type": "code",
   "execution_count": 37,
   "id": "1799cf66",
   "metadata": {},
   "outputs": [],
   "source": [
    "import numpy as np\n",
    "from scipy import stats"
   ]
  },
  {
   "cell_type": "code",
   "execution_count": 38,
   "id": "05dcf78d",
   "metadata": {},
   "outputs": [],
   "source": [
    "auc_scores_df['mean_auc'] = stats.hmean(auc_scores_df, axis=1)"
   ]
  },
  {
   "cell_type": "code",
   "execution_count": 39,
   "id": "5da4216c",
   "metadata": {},
   "outputs": [
    {
     "data": {
      "text/html": [
       "<div>\n",
       "<style scoped>\n",
       "    .dataframe tbody tr th:only-of-type {\n",
       "        vertical-align: middle;\n",
       "    }\n",
       "\n",
       "    .dataframe tbody tr th {\n",
       "        vertical-align: top;\n",
       "    }\n",
       "\n",
       "    .dataframe thead th {\n",
       "        text-align: right;\n",
       "    }\n",
       "</style>\n",
       "<table border=\"1\" class=\"dataframe\">\n",
       "  <thead>\n",
       "    <tr style=\"text-align: right;\">\n",
       "      <th></th>\n",
       "      <th>HIA_Hou</th>\n",
       "      <th>BBB_Martins</th>\n",
       "      <th>CYP3A4_Substrate_CarbonMangels</th>\n",
       "      <th>mean_auc</th>\n",
       "    </tr>\n",
       "  </thead>\n",
       "  <tbody>\n",
       "    <tr>\n",
       "      <th>tree</th>\n",
       "      <td>0.604950</td>\n",
       "      <td>0.838461</td>\n",
       "      <td>0.575869</td>\n",
       "      <td>0.654708</td>\n",
       "    </tr>\n",
       "    <tr>\n",
       "      <th>DGL_GCN</th>\n",
       "      <td>0.937624</td>\n",
       "      <td>0.885884</td>\n",
       "      <td>0.650624</td>\n",
       "      <td>0.803788</td>\n",
       "    </tr>\n",
       "    <tr>\n",
       "      <th>Transformer</th>\n",
       "      <td>0.797690</td>\n",
       "      <td>0.801809</td>\n",
       "      <td>0.534425</td>\n",
       "      <td>0.686190</td>\n",
       "    </tr>\n",
       "  </tbody>\n",
       "</table>\n",
       "</div>"
      ],
      "text/plain": [
       "              HIA_Hou  BBB_Martins  CYP3A4_Substrate_CarbonMangels  mean_auc\n",
       "tree         0.604950     0.838461                        0.575869  0.654708\n",
       "DGL_GCN      0.937624     0.885884                        0.650624  0.803788\n",
       "Transformer  0.797690     0.801809                        0.534425  0.686190"
      ]
     },
     "execution_count": 39,
     "metadata": {},
     "output_type": "execute_result"
    }
   ],
   "source": [
    "auc_scores_df"
   ]
  },
  {
   "cell_type": "code",
   "execution_count": 40,
   "id": "a902ce1f",
   "metadata": {},
   "outputs": [
    {
     "name": "stdout",
     "output_type": "stream",
     "text": [
      "predicting...\n",
      "predicting...\n",
      "predicting...\n",
      "predicting...\n",
      "predicting...\n",
      "predicting...\n"
     ]
    }
   ],
   "source": [
    "f1_scores = {}\n",
    "for dataset_name in dataset_names:\n",
    "    f1_scores[dataset_name] = {}\n",
    "    for model_name in model_names:\n",
    "        model_dir = os.path.join('models', dataset_name, model_name)\n",
    "        if not os.path.exists(model_dir):\n",
    "            os.makedirs(model_dir)\n",
    "            \n",
    "        dataset_dir = os.path.join('datasets', dataset_name, model_name)\n",
    "        model = load_pretrained(model_name, model_dir)\n",
    "        \n",
    "        test_dataset = pd.read_pickle(os.path.join(dataset_dir, 'test.pickle'))\n",
    "        y_pred =  model.predict(test_dataset)\n",
    "        y_pred_bin = (np.array(y_pred) > 0.5).astype(int)\n",
    "        \n",
    "        f1_scores[dataset_name][model_name] = f1_score(test_dataset['Label'], y_pred_bin)"
   ]
  },
  {
   "cell_type": "code",
   "execution_count": 41,
   "id": "25b365e9",
   "metadata": {},
   "outputs": [
    {
     "data": {
      "text/html": [
       "<div>\n",
       "<style scoped>\n",
       "    .dataframe tbody tr th:only-of-type {\n",
       "        vertical-align: middle;\n",
       "    }\n",
       "\n",
       "    .dataframe tbody tr th {\n",
       "        vertical-align: top;\n",
       "    }\n",
       "\n",
       "    .dataframe thead th {\n",
       "        text-align: right;\n",
       "    }\n",
       "</style>\n",
       "<table border=\"1\" class=\"dataframe\">\n",
       "  <thead>\n",
       "    <tr style=\"text-align: right;\">\n",
       "      <th></th>\n",
       "      <th>HIA_Hou</th>\n",
       "      <th>BBB_Martins</th>\n",
       "      <th>CYP3A4_Substrate_CarbonMangels</th>\n",
       "      <th>mean_f1</th>\n",
       "    </tr>\n",
       "  </thead>\n",
       "  <tbody>\n",
       "    <tr>\n",
       "      <th>tree</th>\n",
       "      <td>0.937198</td>\n",
       "      <td>0.903522</td>\n",
       "      <td>0.552239</td>\n",
       "      <td>0.752899</td>\n",
       "    </tr>\n",
       "    <tr>\n",
       "      <th>DGL_GCN</th>\n",
       "      <td>0.970297</td>\n",
       "      <td>0.903010</td>\n",
       "      <td>0.643357</td>\n",
       "      <td>0.812487</td>\n",
       "    </tr>\n",
       "    <tr>\n",
       "      <th>Transformer</th>\n",
       "      <td>0.930876</td>\n",
       "      <td>0.856338</td>\n",
       "      <td>0.660000</td>\n",
       "      <td>0.798473</td>\n",
       "    </tr>\n",
       "  </tbody>\n",
       "</table>\n",
       "</div>"
      ],
      "text/plain": [
       "              HIA_Hou  BBB_Martins  CYP3A4_Substrate_CarbonMangels   mean_f1\n",
       "tree         0.937198     0.903522                        0.552239  0.752899\n",
       "DGL_GCN      0.970297     0.903010                        0.643357  0.812487\n",
       "Transformer  0.930876     0.856338                        0.660000  0.798473"
      ]
     },
     "execution_count": 41,
     "metadata": {},
     "output_type": "execute_result"
    }
   ],
   "source": [
    "f1_scores_df = pd.DataFrame(f1_scores)\n",
    "f1_scores_df['mean_f1'] = stats.hmean(f1_scores_df, axis=1)\n",
    "f1_scores_df"
   ]
  },
  {
   "cell_type": "code",
   "execution_count": 42,
   "id": "84dae49a",
   "metadata": {},
   "outputs": [],
   "source": [
    "mean_scores = pd.concat([auc_scores_df['mean_auc'], f1_scores_df['mean_f1']], axis=1)"
   ]
  },
  {
   "cell_type": "code",
   "execution_count": 43,
   "id": "21ce9072",
   "metadata": {},
   "outputs": [
    {
     "data": {
      "text/html": [
       "<div>\n",
       "<style scoped>\n",
       "    .dataframe tbody tr th:only-of-type {\n",
       "        vertical-align: middle;\n",
       "    }\n",
       "\n",
       "    .dataframe tbody tr th {\n",
       "        vertical-align: top;\n",
       "    }\n",
       "\n",
       "    .dataframe thead th {\n",
       "        text-align: right;\n",
       "    }\n",
       "</style>\n",
       "<table border=\"1\" class=\"dataframe\">\n",
       "  <thead>\n",
       "    <tr style=\"text-align: right;\">\n",
       "      <th></th>\n",
       "      <th>mean_auc</th>\n",
       "      <th>mean_f1</th>\n",
       "    </tr>\n",
       "  </thead>\n",
       "  <tbody>\n",
       "    <tr>\n",
       "      <th>tree</th>\n",
       "      <td>0.654708</td>\n",
       "      <td>0.752899</td>\n",
       "    </tr>\n",
       "    <tr>\n",
       "      <th>DGL_GCN</th>\n",
       "      <td>0.803788</td>\n",
       "      <td>0.812487</td>\n",
       "    </tr>\n",
       "    <tr>\n",
       "      <th>Transformer</th>\n",
       "      <td>0.686190</td>\n",
       "      <td>0.798473</td>\n",
       "    </tr>\n",
       "  </tbody>\n",
       "</table>\n",
       "</div>"
      ],
      "text/plain": [
       "             mean_auc   mean_f1\n",
       "tree         0.654708  0.752899\n",
       "DGL_GCN      0.803788  0.812487\n",
       "Transformer  0.686190  0.798473"
      ]
     },
     "execution_count": 43,
     "metadata": {},
     "output_type": "execute_result"
    }
   ],
   "source": [
    "mean_scores"
   ]
  },
  {
   "cell_type": "code",
   "execution_count": 44,
   "id": "44df114e",
   "metadata": {},
   "outputs": [],
   "source": [
    "mean_scores.to_markdown('mean_scores.md')"
   ]
  },
  {
   "cell_type": "code",
   "execution_count": null,
   "id": "ba23ef79",
   "metadata": {},
   "outputs": [],
   "source": []
  }
 ],
 "metadata": {
  "kernelspec": {
   "display_name": "Python 3 (ipykernel)",
   "language": "python",
   "name": "python3"
  },
  "language_info": {
   "codemirror_mode": {
    "name": "ipython",
    "version": 3
   },
   "file_extension": ".py",
   "mimetype": "text/x-python",
   "name": "python",
   "nbconvert_exporter": "python",
   "pygments_lexer": "ipython3",
   "version": "3.9.0"
  }
 },
 "nbformat": 4,
 "nbformat_minor": 5
}
