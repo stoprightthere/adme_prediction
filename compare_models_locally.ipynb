{
 "cells": [
  {
   "cell_type": "code",
   "execution_count": 1,
   "id": "6af3b7c5",
   "metadata": {},
   "outputs": [],
   "source": [
    "import os\n",
    "\n",
    "import pandas as pd\n",
    "from sklearn.metrics import roc_auc_score\n",
    "\n",
    "from src.train import train\n",
    "from src.datasets import prepare_dataset"
   ]
  },
  {
   "cell_type": "code",
   "execution_count": 15,
   "id": "872883c3",
   "metadata": {},
   "outputs": [],
   "source": [
    "dataset_names = ['HIA_Hou', 'BBB_Martins', 'CYP3A4_Substrate_CarbonMangels']"
   ]
  },
  {
   "cell_type": "code",
   "execution_count": 16,
   "id": "1d713e0e",
   "metadata": {},
   "outputs": [],
   "source": [
    "model_names = ['tree', 'DGL_GCN', 'Transformer']"
   ]
  },
  {
   "cell_type": "code",
   "execution_count": 17,
   "id": "dae62080",
   "metadata": {
    "scrolled": true
   },
   "outputs": [
    {
     "name": "stderr",
     "output_type": "stream",
     "text": [
      "Found local copy...\n",
      "Loading...\n",
      "Done!\n"
     ]
    },
    {
     "name": "stdout",
     "output_type": "stream",
     "text": [
      "encoding drug...\n",
      "unique drugs: 578\n"
     ]
    },
    {
     "name": "stderr",
     "output_type": "stream",
     "text": [
      "Found local copy...\n",
      "Loading...\n",
      "Done!\n",
      "Found local copy...\n",
      "Loading...\n",
      "Done!\n",
      "Found local copy...\n",
      "Loading...\n",
      "Done!\n"
     ]
    },
    {
     "name": "stdout",
     "output_type": "stream",
     "text": [
      "Drug Property Prediction Mode...\n",
      "in total: 578 drugs\n",
      "encoding drug...\n",
      "unique drugs: 578\n",
      "Done.\n",
      "Drug Property Prediction Mode...\n",
      "in total: 578 drugs\n",
      "encoding drug...\n",
      "unique drugs: 578\n",
      "Done.\n",
      "encoding drug...\n",
      "unique drugs: 1975\n"
     ]
    },
    {
     "name": "stderr",
     "output_type": "stream",
     "text": [
      "Found local copy...\n",
      "Loading...\n",
      "Done!\n",
      "Found local copy...\n",
      "Loading...\n",
      "Done!\n",
      "Found local copy...\n",
      "Loading...\n",
      "Done!\n"
     ]
    },
    {
     "name": "stdout",
     "output_type": "stream",
     "text": [
      "Drug Property Prediction Mode...\n",
      "in total: 2030 drugs\n",
      "encoding drug...\n",
      "unique drugs: 1975\n",
      "Done.\n",
      "Drug Property Prediction Mode...\n",
      "in total: 2030 drugs\n",
      "encoding drug...\n",
      "unique drugs: 1975\n",
      "Done.\n",
      "encoding drug...\n",
      "unique drugs: 667\n"
     ]
    },
    {
     "name": "stderr",
     "output_type": "stream",
     "text": [
      "Found local copy...\n",
      "Loading...\n",
      "Done!\n",
      "Found local copy...\n",
      "Loading...\n",
      "Done!\n"
     ]
    },
    {
     "name": "stdout",
     "output_type": "stream",
     "text": [
      "Drug Property Prediction Mode...\n",
      "in total: 670 drugs\n",
      "encoding drug...\n",
      "unique drugs: 667\n",
      "Done.\n",
      "Drug Property Prediction Mode...\n",
      "in total: 670 drugs\n",
      "encoding drug...\n",
      "unique drugs: 667\n",
      "Done.\n"
     ]
    }
   ],
   "source": [
    "for dataset_name in dataset_names:\n",
    "    for model_name in model_names:\n",
    "        train_df, val_df, test_df = prepare_dataset(dataset_name, model_name)\n",
    "        \n",
    "        dataset_folder = os.path.join('datasets', dataset_name, model_name)\n",
    "        if not os.path.exists(dataset_folder):\n",
    "            os.makedirs(dataset_folder)\n",
    "        train_df.to_pickle(os.path.join(dataset_folder, 'train.pickle'))\n",
    "        val_df.to_pickle(os.path.join(dataset_folder, 'val.pickle'))\n",
    "        test_df.to_pickle(os.path.join(dataset_folder, 'test.pickle'))"
   ]
  },
  {
   "cell_type": "code",
   "execution_count": 18,
   "id": "637685d2",
   "metadata": {},
   "outputs": [],
   "source": [
    "model_kwargs = {}\n",
    "model_kwargs['DGL_GCN'] = dict(LR=1e-3, train_epoch=100, batch_size=64)\n",
    "model_kwargs['Transformer'] = model_kwargs['DGL_GCN']\n",
    "model_kwargs['tree'] = {'max_depth': 5, 'random_state': 1234,}"
   ]
  },
  {
   "cell_type": "code",
   "execution_count": 19,
   "id": "9ba3cb9c",
   "metadata": {},
   "outputs": [],
   "source": [
    "auc_scores = {}"
   ]
  },
  {
   "cell_type": "code",
   "execution_count": 20,
   "id": "2634827e",
   "metadata": {},
   "outputs": [],
   "source": [
    "from DeepPurpose import CompoundPred"
   ]
  },
  {
   "cell_type": "code",
   "execution_count": 21,
   "id": "4564a4cc",
   "metadata": {},
   "outputs": [
    {
     "name": "stdout",
     "output_type": "stream",
     "text": [
      "predicting...\n",
      "predicting...\n",
      "predicting...\n",
      "predicting...\n",
      "predicting...\n",
      "predicting...\n"
     ]
    }
   ],
   "source": [
    "for dataset_name in dataset_names:\n",
    "    auc_scores[dataset_name] = {}\n",
    "    for model_name in model_names:\n",
    "        model_dir = os.path.join('models', dataset_name, model_name)\n",
    "        if not os.path.exists(model_dir):\n",
    "            os.makedirs(model_dir)\n",
    "            \n",
    "        dataset_dir = os.path.join('datasets', dataset_name, model_name)\n",
    "        \n",
    "        if os.path.exists(os.path.join(model_dir, 'model.pt')):\n",
    "            model = CompoundPred.model_pretrained(model_dir)\n",
    "        else:\n",
    "            model = train(model_name, \n",
    "                          train_pickle=os.path.join(dataset_dir, 'train.pickle'),\n",
    "                          val_pickle=os.path.join(dataset_dir, 'val.pickle'),\n",
    "                          model_dir=model_dir,\n",
    "                          **model_kwargs[model_name])\n",
    "\n",
    "        test_dataset = pd.read_pickle(os.path.join(dataset_dir, 'test.pickle'))\n",
    "        y_pred =  model.predict(test_dataset)\n",
    "        \n",
    "        auc_scores[dataset_name][model_name] = roc_auc_score(test_dataset['Label'], y_pred)"
   ]
  },
  {
   "cell_type": "code",
   "execution_count": 22,
   "id": "b92db96b",
   "metadata": {},
   "outputs": [],
   "source": [
    "auc_scores_df = pd.DataFrame(auc_scores)"
   ]
  },
  {
   "cell_type": "code",
   "execution_count": 23,
   "id": "01767cc2",
   "metadata": {},
   "outputs": [
    {
     "data": {
      "text/html": [
       "<div>\n",
       "<style scoped>\n",
       "    .dataframe tbody tr th:only-of-type {\n",
       "        vertical-align: middle;\n",
       "    }\n",
       "\n",
       "    .dataframe tbody tr th {\n",
       "        vertical-align: top;\n",
       "    }\n",
       "\n",
       "    .dataframe thead th {\n",
       "        text-align: right;\n",
       "    }\n",
       "</style>\n",
       "<table border=\"1\" class=\"dataframe\">\n",
       "  <thead>\n",
       "    <tr style=\"text-align: right;\">\n",
       "      <th></th>\n",
       "      <th>HIA_Hou</th>\n",
       "      <th>BBB_Martins</th>\n",
       "      <th>CYP3A4_Substrate_CarbonMangels</th>\n",
       "    </tr>\n",
       "  </thead>\n",
       "  <tbody>\n",
       "    <tr>\n",
       "      <th>tree</th>\n",
       "      <td>0.604950</td>\n",
       "      <td>0.838461</td>\n",
       "      <td>0.575869</td>\n",
       "    </tr>\n",
       "    <tr>\n",
       "      <th>DGL_GCN</th>\n",
       "      <td>0.937624</td>\n",
       "      <td>0.885884</td>\n",
       "      <td>0.650624</td>\n",
       "    </tr>\n",
       "    <tr>\n",
       "      <th>Transformer</th>\n",
       "      <td>0.798020</td>\n",
       "      <td>0.801809</td>\n",
       "      <td>0.532754</td>\n",
       "    </tr>\n",
       "  </tbody>\n",
       "</table>\n",
       "</div>"
      ],
      "text/plain": [
       "              HIA_Hou  BBB_Martins  CYP3A4_Substrate_CarbonMangels\n",
       "tree         0.604950     0.838461                        0.575869\n",
       "DGL_GCN      0.937624     0.885884                        0.650624\n",
       "Transformer  0.798020     0.801809                        0.532754"
      ]
     },
     "execution_count": 23,
     "metadata": {},
     "output_type": "execute_result"
    }
   ],
   "source": [
    "auc_scores_df"
   ]
  },
  {
   "cell_type": "code",
   "execution_count": 24,
   "id": "8f915652",
   "metadata": {},
   "outputs": [
    {
     "data": {
      "text/plain": [
       "tree           0.673094\n",
       "DGL_GCN        0.824711\n",
       "Transformer    0.710861\n",
       "dtype: float64"
      ]
     },
     "execution_count": 24,
     "metadata": {},
     "output_type": "execute_result"
    }
   ],
   "source": [
    "auc_scores_df.mean(axis=1)"
   ]
  },
  {
   "cell_type": "code",
   "execution_count": null,
   "id": "b6965161",
   "metadata": {},
   "outputs": [],
   "source": []
  }
 ],
 "metadata": {
  "kernelspec": {
   "display_name": "Python 3 (ipykernel)",
   "language": "python",
   "name": "python3"
  },
  "language_info": {
   "codemirror_mode": {
    "name": "ipython",
    "version": 3
   },
   "file_extension": ".py",
   "mimetype": "text/x-python",
   "name": "python",
   "nbconvert_exporter": "python",
   "pygments_lexer": "ipython3",
   "version": "3.9.0"
  }
 },
 "nbformat": 4,
 "nbformat_minor": 5
}
